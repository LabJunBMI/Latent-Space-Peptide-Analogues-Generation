{
 "cells": [
  {
   "cell_type": "code",
   "execution_count": 1,
   "metadata": {},
   "outputs": [],
   "source": [
    "import pandas as pd\n",
    "import random\n",
    "SEQUENCES_PATH = \"./data/biolip_sequences.pkl\"\n",
    "AMINO_ACIDS = 'ACDEFGHIKLMNPQRSTVWY'\n",
    "# The number of sequences to generate\n",
    "GEN_NUM = 10"
   ]
  },
  {
   "cell_type": "code",
   "execution_count": 2,
   "metadata": {},
   "outputs": [
    {
     "data": {
      "text/plain": [
       "7         PPRPLPVAPGSSKT\n",
       "17             TPYDINQML\n",
       "18              VPLRPMTY\n",
       "19             KPIVQYDNF\n",
       "23          NGDFEEIPEEYL\n",
       "              ...       \n",
       "36597      ISARKYPSDWEEW\n",
       "36603         QPISVTMVTP\n",
       "36605          QPISVTMVT\n",
       "36634       TSKFPHLTFESP\n",
       "36635    MLSEGYLSGLEYWND\n",
       "Name: ligand_sequence, Length: 4758, dtype: object"
      ]
     },
     "execution_count": 2,
     "metadata": {},
     "output_type": "execute_result"
    }
   ],
   "source": [
    "df = pd.read_pickle(SEQUENCES_PATH)\n",
    "df.ligand_sequence"
   ]
  },
  {
   "cell_type": "code",
   "execution_count": 3,
   "metadata": {},
   "outputs": [
    {
     "name": "stdout",
     "output_type": "stream",
     "text": [
      "Original Sequence: ACDEFGHIKLMNPQRSTVWY\n",
      "Mutated Sequence: QDVKNHPYSIDDGQSVEQRN\n"
     ]
    }
   ],
   "source": [
    "def mutate_sequence(sequence: str) -> str:\n",
    "    new_seq = \"\"\n",
    "    for _ in sequence:\n",
    "        new_seq+=random.choice(AMINO_ACIDS)\n",
    "    return new_seq\n",
    "\n",
    "# Example usage:\n",
    "original_sequence = \"ACDEFGHIKLMNPQRSTVWY\"\n",
    "mutated_sequence = mutate_sequence(original_sequence)\n",
    "print(f\"Original Sequence: {original_sequence}\")\n",
    "print(f\"Mutated Sequence: {mutated_sequence}\")"
   ]
  },
  {
   "cell_type": "code",
   "execution_count": 4,
   "metadata": {},
   "outputs": [],
   "source": [
    "def generate_seq(seq, gen_num=3):\n",
    "    res = []\n",
    "    while len(res)<gen_num:\n",
    "        output_seq = mutate_sequence(seq)\n",
    "        if(output_seq not in res):\n",
    "            res.append(output_seq)\n",
    "    return res"
   ]
  },
  {
   "cell_type": "code",
   "execution_count": 5,
   "metadata": {},
   "outputs": [],
   "source": [
    "res = []\n",
    "for idx, seq in enumerate(df.ligand_sequence):\n",
    "    res.append(generate_seq(seq,GEN_NUM))"
   ]
  },
  {
   "cell_type": "code",
   "execution_count": 6,
   "metadata": {},
   "outputs": [
    {
     "data": {
      "text/html": [
       "<div>\n",
       "<style scoped>\n",
       "    .dataframe tbody tr th:only-of-type {\n",
       "        vertical-align: middle;\n",
       "    }\n",
       "\n",
       "    .dataframe tbody tr th {\n",
       "        vertical-align: top;\n",
       "    }\n",
       "\n",
       "    .dataframe thead th {\n",
       "        text-align: right;\n",
       "    }\n",
       "</style>\n",
       "<table border=\"1\" class=\"dataframe\">\n",
       "  <thead>\n",
       "    <tr style=\"text-align: right;\">\n",
       "      <th></th>\n",
       "      <th>pdb_id</th>\n",
       "      <th>receptor_chain</th>\n",
       "      <th>ligand_chain</th>\n",
       "      <th>binding_site_sequence</th>\n",
       "      <th>binding_site_pos</th>\n",
       "      <th>receptor_sequence</th>\n",
       "      <th>ligand_sequence</th>\n",
       "      <th>generated_seq</th>\n",
       "    </tr>\n",
       "  </thead>\n",
       "  <tbody>\n",
       "    <tr>\n",
       "      <th>7</th>\n",
       "      <td>1a0n</td>\n",
       "      <td>B</td>\n",
       "      <td>A</td>\n",
       "      <td>YYWPNY</td>\n",
       "      <td>[8, 10, 36, 51, 53, 54]</td>\n",
       "      <td>GSTGVTLFVALYDYEARTEDDLSFHKGEKFQILNSSEGDWWEARSL...</td>\n",
       "      <td>PPRPLPVAPGSSKT</td>\n",
       "      <td>[PNEAGPMIIVGRGS, PFWLLRIEQYKRLR, HYVKLVGMYMIMN...</td>\n",
       "    </tr>\n",
       "    <tr>\n",
       "      <th>17</th>\n",
       "      <td>1a1m</td>\n",
       "      <td>A</td>\n",
       "      <td>C</td>\n",
       "      <td>YYNYNYRYDYTKLYWY</td>\n",
       "      <td>[7, 9, 63, 74, 77, 84, 97, 99, 114, 123, 143, ...</td>\n",
       "      <td>GSHSMRYFYTAMSRPGRGEPRFIAVGYVDDTQFVRFDSDAASPRTE...</td>\n",
       "      <td>TPYDINQML</td>\n",
       "      <td>[GYLQGHQWD, VAIWFWDHE, DLFHTDMHP, NQCQDLPHK, Q...</td>\n",
       "    </tr>\n",
       "    <tr>\n",
       "      <th>18</th>\n",
       "      <td>1a1n</td>\n",
       "      <td>A</td>\n",
       "      <td>C</td>\n",
       "      <td>RNIFTTYSNYRYSTWVLYW</td>\n",
       "      <td>[62, 63, 66, 67, 69, 73, 74, 77, 80, 84, 97, 9...</td>\n",
       "      <td>GSHSMRYFYTAMSRPGRGEPRFIAVGYVDDTQFVRFDSDAASPRTE...</td>\n",
       "      <td>VPLRPMTY</td>\n",
       "      <td>[HPHQENFP, IIYDYSAN, VFRNICHG, VLYGTYFA, RYVMW...</td>\n",
       "    </tr>\n",
       "    <tr>\n",
       "      <th>19</th>\n",
       "      <td>1a1o</td>\n",
       "      <td>A</td>\n",
       "      <td>C</td>\n",
       "      <td>YRNITNIYRYYTQYWY</td>\n",
       "      <td>[7, 62, 63, 66, 69, 77, 80, 84, 97, 99, 123, 1...</td>\n",
       "      <td>GSHSMRYFYTAMSRPGRGEPRFIAVGYVDDTQFVRFDSDAASPRTE...</td>\n",
       "      <td>KPIVQYDNF</td>\n",
       "      <td>[PFSHKHNQQ, ARPMLWMGA, DHVTDYWIK, PFIMYFCFH, A...</td>\n",
       "    </tr>\n",
       "    <tr>\n",
       "      <th>23</th>\n",
       "      <td>1a2c</td>\n",
       "      <td>H</td>\n",
       "      <td>I</td>\n",
       "      <td>FQLRTRYKI</td>\n",
       "      <td>[19, 24, 60, 68, 69, 70, 71, 77, 78]</td>\n",
       "      <td>IVEGSDAEIGMSPWQVMLFRKSPQELLCGASLISDRWVLTAAHCLL...</td>\n",
       "      <td>NGDFEEIPEEYL</td>\n",
       "      <td>[ILNSINYPEGRY, ADCYPHFWRSWY, SHFQIVHKLTGK, KWV...</td>\n",
       "    </tr>\n",
       "  </tbody>\n",
       "</table>\n",
       "</div>"
      ],
      "text/plain": [
       "   pdb_id receptor_chain ligand_chain binding_site_sequence  \\\n",
       "7    1a0n              B            A                YYWPNY   \n",
       "17   1a1m              A            C      YYNYNYRYDYTKLYWY   \n",
       "18   1a1n              A            C   RNIFTTYSNYRYSTWVLYW   \n",
       "19   1a1o              A            C      YRNITNIYRYYTQYWY   \n",
       "23   1a2c              H            I             FQLRTRYKI   \n",
       "\n",
       "                                     binding_site_pos  \\\n",
       "7                             [8, 10, 36, 51, 53, 54]   \n",
       "17  [7, 9, 63, 74, 77, 84, 97, 99, 114, 123, 143, ...   \n",
       "18  [62, 63, 66, 67, 69, 73, 74, 77, 80, 84, 97, 9...   \n",
       "19  [7, 62, 63, 66, 69, 77, 80, 84, 97, 99, 123, 1...   \n",
       "23               [19, 24, 60, 68, 69, 70, 71, 77, 78]   \n",
       "\n",
       "                                    receptor_sequence ligand_sequence  \\\n",
       "7   GSTGVTLFVALYDYEARTEDDLSFHKGEKFQILNSSEGDWWEARSL...  PPRPLPVAPGSSKT   \n",
       "17  GSHSMRYFYTAMSRPGRGEPRFIAVGYVDDTQFVRFDSDAASPRTE...       TPYDINQML   \n",
       "18  GSHSMRYFYTAMSRPGRGEPRFIAVGYVDDTQFVRFDSDAASPRTE...        VPLRPMTY   \n",
       "19  GSHSMRYFYTAMSRPGRGEPRFIAVGYVDDTQFVRFDSDAASPRTE...       KPIVQYDNF   \n",
       "23  IVEGSDAEIGMSPWQVMLFRKSPQELLCGASLISDRWVLTAAHCLL...    NGDFEEIPEEYL   \n",
       "\n",
       "                                        generated_seq  \n",
       "7   [PNEAGPMIIVGRGS, PFWLLRIEQYKRLR, HYVKLVGMYMIMN...  \n",
       "17  [GYLQGHQWD, VAIWFWDHE, DLFHTDMHP, NQCQDLPHK, Q...  \n",
       "18  [HPHQENFP, IIYDYSAN, VFRNICHG, VLYGTYFA, RYVMW...  \n",
       "19  [PFSHKHNQQ, ARPMLWMGA, DHVTDYWIK, PFIMYFCFH, A...  \n",
       "23  [ILNSINYPEGRY, ADCYPHFWRSWY, SHFQIVHKLTGK, KWV...  "
      ]
     },
     "execution_count": 6,
     "metadata": {},
     "output_type": "execute_result"
    }
   ],
   "source": [
    "df[\"generated_seq\"] = res\n",
    "df.head()"
   ]
  },
  {
   "cell_type": "code",
   "execution_count": 7,
   "metadata": {},
   "outputs": [
    {
     "data": {
      "text/plain": [
       "0"
      ]
     },
     "execution_count": 7,
     "metadata": {},
     "output_type": "execute_result"
    }
   ],
   "source": [
    "(df.generated_seq.apply(len)!=GEN_NUM).sum()"
   ]
  },
  {
   "cell_type": "code",
   "execution_count": 8,
   "metadata": {},
   "outputs": [],
   "source": [
    "df.to_pickle(f\"random_generated_{GEN_NUM}.pkl\")"
   ]
  },
  {
   "cell_type": "code",
   "execution_count": null,
   "metadata": {},
   "outputs": [],
   "source": []
  }
 ],
 "metadata": {
  "kernelspec": {
   "display_name": "torch2.3",
   "language": "python",
   "name": "python3"
  },
  "language_info": {
   "codemirror_mode": {
    "name": "ipython",
    "version": 3
   },
   "file_extension": ".py",
   "mimetype": "text/x-python",
   "name": "python",
   "nbconvert_exporter": "python",
   "pygments_lexer": "ipython3",
   "version": "3.12.3"
  }
 },
 "nbformat": 4,
 "nbformat_minor": 2
}
